{
  "nbformat": 4,
  "nbformat_minor": 0,
  "metadata": {
    "colab": {
      "name": "Mnist in Tensorflow(Keras) To Deployment (End to End).ipynb",
      "provenance": [],
      "collapsed_sections": []
    },
    "kernelspec": {
      "name": "python3",
      "display_name": "Python 3"
    },
    "language_info": {
      "name": "python"
    },
    "accelerator": "GPU"
  },
  "cells": [
    {
      "cell_type": "code",
      "metadata": {
        "id": "6uCkmRw0Yqyh"
      },
      "source": [
        "from tensorflow.keras.datasets import mnist\n",
        "from tensorflow.keras.layers import Dense\n",
        "from tensorflow.keras.layers import Dropout\n",
        "from tensorflow.keras.layers import Conv2D\n",
        "from tensorflow.keras.layers import MaxPooling2D\n",
        "from tensorflow.keras.layers import Flatten\n",
        "from tensorflow.keras.models import Sequential\n",
        "from tensorflow.keras.utils import to_categorical"
      ],
      "execution_count": 2,
      "outputs": []
    },
    {
      "cell_type": "code",
      "metadata": {
        "colab": {
          "base_uri": "https://localhost:8080/"
        },
        "id": "RtDHL_gTZrIj",
        "outputId": "1e0659c3-b688-41c4-8239-1ab2f16af306"
      },
      "source": [
        "(X_train, y_train), (X_test, y_test) = mnist.load_data()\n",
        "\n",
        "print(\"X_train shape\", X_train.shape)\n",
        "print(\"y_train shape\", y_train.shape)\n",
        "print(\"X_test shape\", X_test.shape)\n",
        "print(\"y_test shape\", y_test.shape)"
      ],
      "execution_count": 3,
      "outputs": [
        {
          "output_type": "stream",
          "text": [
            "X_train shape (60000, 28, 28)\n",
            "y_train shape (60000,)\n",
            "X_test shape (10000, 28, 28)\n",
            "y_test shape (10000,)\n"
          ],
          "name": "stdout"
        }
      ]
    },
    {
      "cell_type": "code",
      "metadata": {
        "colab": {
          "base_uri": "https://localhost:8080/"
        },
        "id": "2xwQrQd6aWTL",
        "outputId": "42837e68-b435-4fbd-ed21-e9a75e0ac35b"
      },
      "source": [
        "X_train = X_train.reshape(60000, 784)\n",
        "X_test = X_test.reshape(10000, 784)\n",
        "\n",
        "print(\"X_train shape\", X_train.shape)\n",
        "print(\"X_test shape\", X_test.shape)"
      ],
      "execution_count": 4,
      "outputs": [
        {
          "output_type": "stream",
          "text": [
            "X_train shape (60000, 784)\n",
            "X_test shape (10000, 784)\n"
          ],
          "name": "stdout"
        }
      ]
    },
    {
      "cell_type": "code",
      "metadata": {
        "id": "-0QArtN0afI9"
      },
      "source": [
        "X_train = X_train.astype(\"float32\")\n",
        "X_test = X_test.astype(\"float32\")"
      ],
      "execution_count": 5,
      "outputs": []
    },
    {
      "cell_type": "code",
      "metadata": {
        "id": "ay5HhptNam-k"
      },
      "source": [
        "X_train /= 255\n",
        "X_test /= 255"
      ],
      "execution_count": 6,
      "outputs": []
    },
    {
      "cell_type": "code",
      "metadata": {
        "id": "--sdiTSJa0sL"
      },
      "source": [
        "classes = 10\n",
        "\n",
        "Y_train = to_categorical(y_train, num_classes=classes)\n",
        "Y_test = to_categorical(y_test, num_classes=classes)"
      ],
      "execution_count": 7,
      "outputs": []
    },
    {
      "cell_type": "code",
      "metadata": {
        "colab": {
          "base_uri": "https://localhost:8080/"
        },
        "id": "4MYvCcydbDVr",
        "outputId": "556e1f41-c4f6-4e20-ff87-da35920130eb"
      },
      "source": [
        "Y_train[0]"
      ],
      "execution_count": 8,
      "outputs": [
        {
          "output_type": "execute_result",
          "data": {
            "text/plain": [
              "array([0., 0., 0., 0., 0., 1., 0., 0., 0., 0.], dtype=float32)"
            ]
          },
          "metadata": {
            "tags": []
          },
          "execution_count": 8
        }
      ]
    },
    {
      "cell_type": "code",
      "metadata": {
        "colab": {
          "base_uri": "https://localhost:8080/"
        },
        "id": "5Uoa2KCYbEbS",
        "outputId": "11efd028-9087-43a0-9a61-3a116ba53e30"
      },
      "source": [
        "print(\"Y_train shape\", Y_train.shape)\n",
        "print(\"Y_test shape\", Y_test.shape)"
      ],
      "execution_count": 9,
      "outputs": [
        {
          "output_type": "stream",
          "text": [
            "Y_train shape (60000, 10)\n",
            "Y_test shape (10000, 10)\n"
          ],
          "name": "stdout"
        }
      ]
    },
    {
      "cell_type": "markdown",
      "metadata": {
        "id": "nrDRqJe6bjr-"
      },
      "source": [
        "Model"
      ]
    },
    {
      "cell_type": "code",
      "metadata": {
        "id": "cdrF1dHTbJAS"
      },
      "source": [
        "model = Sequential()\n",
        "model.add(Dense(1000, activation=\"relu\", input_shape=(784,)))\n",
        "model.add(Dropout(rate=0.25))\n",
        "model.add(Dense(1000, activation=\"relu\"))\n",
        "model.add(Dropout(rate=0.25))\n",
        "model.add(Dense(500, activation=\"relu\"))\n",
        "model.add(Dropout(rate=0.15))\n",
        "model.add(Dense(classes, activation=\"softmax\"))"
      ],
      "execution_count": 10,
      "outputs": []
    },
    {
      "cell_type": "code",
      "metadata": {
        "id": "ldJtSJLYcNHg"
      },
      "source": [
        "model.compile(optimizer=\"adam\", loss=\"categorical_crossentropy\", metrics=['accuracy'])"
      ],
      "execution_count": 11,
      "outputs": []
    },
    {
      "cell_type": "code",
      "metadata": {
        "colab": {
          "base_uri": "https://localhost:8080/"
        },
        "id": "lcB6YNzucJ3l",
        "outputId": "155c8be3-4567-4121-8232-a07e0da9200e"
      },
      "source": [
        "model.summary()"
      ],
      "execution_count": 12,
      "outputs": [
        {
          "output_type": "stream",
          "text": [
            "Model: \"sequential\"\n",
            "_________________________________________________________________\n",
            "Layer (type)                 Output Shape              Param #   \n",
            "=================================================================\n",
            "dense (Dense)                (None, 1000)              785000    \n",
            "_________________________________________________________________\n",
            "dropout (Dropout)            (None, 1000)              0         \n",
            "_________________________________________________________________\n",
            "dense_1 (Dense)              (None, 1000)              1001000   \n",
            "_________________________________________________________________\n",
            "dropout_1 (Dropout)          (None, 1000)              0         \n",
            "_________________________________________________________________\n",
            "dense_2 (Dense)              (None, 500)               500500    \n",
            "_________________________________________________________________\n",
            "dropout_2 (Dropout)          (None, 500)               0         \n",
            "_________________________________________________________________\n",
            "dense_3 (Dense)              (None, 10)                5010      \n",
            "=================================================================\n",
            "Total params: 2,291,510\n",
            "Trainable params: 2,291,510\n",
            "Non-trainable params: 0\n",
            "_________________________________________________________________\n"
          ],
          "name": "stdout"
        }
      ]
    },
    {
      "cell_type": "code",
      "metadata": {
        "colab": {
          "base_uri": "https://localhost:8080/"
        },
        "id": "NU19sj8NcLOO",
        "outputId": "52cd0990-0b25-485b-df9e-d8dd053b9dbc"
      },
      "source": [
        "history = model.fit(X_train, Y_train,\n",
        "          batch_size=128, epochs=15,\n",
        "          validation_data=(X_test, Y_test),\n",
        "          verbose=1)"
      ],
      "execution_count": 13,
      "outputs": [
        {
          "output_type": "stream",
          "text": [
            "Epoch 1/15\n",
            "469/469 [==============================] - 3s 4ms/step - loss: 0.2352 - accuracy: 0.9283 - val_loss: 0.1150 - val_accuracy: 0.9656\n",
            "Epoch 2/15\n",
            "469/469 [==============================] - 2s 3ms/step - loss: 0.1074 - accuracy: 0.9669 - val_loss: 0.0813 - val_accuracy: 0.9764\n",
            "Epoch 3/15\n",
            "469/469 [==============================] - 2s 3ms/step - loss: 0.0785 - accuracy: 0.9756 - val_loss: 0.0814 - val_accuracy: 0.9754\n",
            "Epoch 4/15\n",
            "469/469 [==============================] - 2s 3ms/step - loss: 0.0650 - accuracy: 0.9792 - val_loss: 0.0796 - val_accuracy: 0.9783\n",
            "Epoch 5/15\n",
            "469/469 [==============================] - 2s 4ms/step - loss: 0.0541 - accuracy: 0.9833 - val_loss: 0.0858 - val_accuracy: 0.9759\n",
            "Epoch 6/15\n",
            "469/469 [==============================] - 2s 3ms/step - loss: 0.0476 - accuracy: 0.9849 - val_loss: 0.0574 - val_accuracy: 0.9822\n",
            "Epoch 7/15\n",
            "469/469 [==============================] - 2s 3ms/step - loss: 0.0422 - accuracy: 0.9869 - val_loss: 0.0724 - val_accuracy: 0.9803\n",
            "Epoch 8/15\n",
            "469/469 [==============================] - 2s 3ms/step - loss: 0.0388 - accuracy: 0.9877 - val_loss: 0.0731 - val_accuracy: 0.9796\n",
            "Epoch 9/15\n",
            "469/469 [==============================] - 2s 3ms/step - loss: 0.0350 - accuracy: 0.9892 - val_loss: 0.0619 - val_accuracy: 0.9823\n",
            "Epoch 10/15\n",
            "469/469 [==============================] - 2s 3ms/step - loss: 0.0346 - accuracy: 0.9889 - val_loss: 0.0663 - val_accuracy: 0.9837\n",
            "Epoch 11/15\n",
            "469/469 [==============================] - 2s 3ms/step - loss: 0.0323 - accuracy: 0.9900 - val_loss: 0.0858 - val_accuracy: 0.9790\n",
            "Epoch 12/15\n",
            "469/469 [==============================] - 2s 3ms/step - loss: 0.0288 - accuracy: 0.9912 - val_loss: 0.0718 - val_accuracy: 0.9837\n",
            "Epoch 13/15\n",
            "469/469 [==============================] - 2s 3ms/step - loss: 0.0250 - accuracy: 0.9919 - val_loss: 0.0686 - val_accuracy: 0.9837\n",
            "Epoch 14/15\n",
            "469/469 [==============================] - 2s 3ms/step - loss: 0.0271 - accuracy: 0.9916 - val_loss: 0.0751 - val_accuracy: 0.9818\n",
            "Epoch 15/15\n",
            "469/469 [==============================] - 2s 3ms/step - loss: 0.0245 - accuracy: 0.9923 - val_loss: 0.0832 - val_accuracy: 0.9814\n"
          ],
          "name": "stdout"
        }
      ]
    },
    {
      "cell_type": "code",
      "metadata": {
        "colab": {
          "base_uri": "https://localhost:8080/"
        },
        "id": "PoR7lDgudLCp",
        "outputId": "c7b57513-278d-47a4-99f6-1a968f14b351"
      },
      "source": [
        "score = model.evaluate(X_test, Y_test)\n",
        "print('Test score:', score[0])\n",
        "print('Test accuracy:', score[1])"
      ],
      "execution_count": 14,
      "outputs": [
        {
          "output_type": "stream",
          "text": [
            "313/313 [==============================] - 1s 2ms/step - loss: 0.0832 - accuracy: 0.9814\n",
            "Test score: 0.08315329253673553\n",
            "Test accuracy: 0.9814000129699707\n"
          ],
          "name": "stdout"
        }
      ]
    },
    {
      "cell_type": "code",
      "metadata": {
        "id": "ZE3BtBRUddIj"
      },
      "source": [
        "model.save(\"/content/drive/MyDrive/Models(AI)/mnist_v2.h5\")"
      ],
      "execution_count": 15,
      "outputs": []
    },
    {
      "cell_type": "code",
      "metadata": {
        "colab": {
          "base_uri": "https://localhost:8080/"
        },
        "id": "gzRgzBx-TClQ",
        "outputId": "8184b207-b018-45dc-b248-475657433d07"
      },
      "source": [
        "model_history_1 = history.history\n",
        "print(model_history_1.keys())"
      ],
      "execution_count": 17,
      "outputs": [
        {
          "output_type": "stream",
          "text": [
            "dict_keys(['loss', 'accuracy', 'val_loss', 'val_accuracy'])\n"
          ],
          "name": "stdout"
        }
      ]
    },
    {
      "cell_type": "code",
      "metadata": {
        "colab": {
          "base_uri": "https://localhost:8080/",
          "height": 527
        },
        "id": "1KoxNZ8PTDhZ",
        "outputId": "331b188a-3a61-4df6-c027-94edb91e331b"
      },
      "source": [
        "import matplotlib.pyplot as plt\n",
        "\n",
        "\n",
        "validation_accu_1 = model_history_1['val_accuracy']\n",
        "model_loss_1 = model_history_1['loss']\n",
        "validation_loss_1 = model_history_1['val_loss']\n",
        "model_accu_1 = model_history_1['accuracy']\n",
        "epochs_1 = range(len(model_accu_1))\n",
        "\n",
        "#plot for validation accuracy and Training Accuracy\n",
        "plt.figure(figsize = (14,10))\n",
        "plt.subplot(211)\n",
        "plt.plot(epochs_1, validation_accu_1, 'bo', label = 'Validation Accuracy')\n",
        "plt.plot(epochs_1, model_accu_1, 'b', label = 'Training Accuracy')\n",
        "plt.xlabel('Epochs')\n",
        "plt.ylabel('Accuracy')\n",
        "plt.legend()\n",
        "\n",
        "#plot for validation loss and Training loss\n",
        "plt.figure(figsize = (14,10))\n",
        "plt.subplot(212)\n",
        "plt.plot(epochs_1, validation_loss_1, 'bo', label = 'Validation Loss')\n",
        "plt.plot(epochs_1, model_loss_1, 'b', label = 'Training Loss')\n",
        "plt.xlabel('Epochs')\n",
        "plt.ylabel('Loss')\n",
        "plt.legend()\n",
        "\n",
        "plt.show()"
      ],
      "execution_count": 20,
      "outputs": [
        {
          "output_type": "display_data",
          "data": {
            "image/png": "[encoded data removed]",
            "text/plain": [
              "<Figure size 1008x720 with 1 Axes>"
            ]
          },
          "metadata": {
            "tags": [],
            "needs_background": "light"
          }
        },
        {
          "output_type": "display_data",
          "data": {
            "image/png": "[encoded data removed]",
            "text/plain": [
              "<Figure size 1008x720 with 1 Axes>"
            ]
          },
          "metadata": {
            "tags": [],
            "needs_background": "light"
          }
        }
      ]
    },
    {
      "cell_type": "code",
      "metadata": {
        "colab": {
          "base_uri": "https://localhost:8080/"
        },
        "id": "bTJtQHaY2nsh",
        "outputId": "44e68298-3671-4254-9338-4fe9ab21fa5b"
      },
      "source": [
        "from google.colab import drive\n",
        "drive.mount('/content/drive')"
      ],
      "execution_count": 21,
      "outputs": [
        {
          "output_type": "stream",
          "text": [
            "Drive already mounted at /content/drive; to attempt to forcibly remount, call drive.mount(\"/content/drive\", force_remount=True).\n"
          ],
          "name": "stdout"
        }
      ]
    },
    {
      "cell_type": "code",
      "metadata": {
        "id": "vuFXnO0yeRBi"
      },
      "source": [
        "from tensorflow.keras.models import load_model"
      ],
      "execution_count": 22,
      "outputs": []
    },
    {
      "cell_type": "code",
      "metadata": {
        "id": "By8uojmre54e"
      },
      "source": [
        "import numpy as np"
      ],
      "execution_count": 23,
      "outputs": []
    },
    {
      "cell_type": "code",
      "metadata": {
        "id": "x4mtKBsbeT78"
      },
      "source": [
        "DNN = load_model('/content/drive/MyDrive/Models(AI)/mnist_v2.h5')"
      ],
      "execution_count": 24,
      "outputs": []
    },
    {
      "cell_type": "code",
      "metadata": {
        "id": "7pvDYKhdeX1H"
      },
      "source": [
        "import cv2\n",
        "from google.colab.patches import cv2_imshow"
      ],
      "execution_count": 25,
      "outputs": []
    },
    {
      "cell_type": "code",
      "metadata": {
        "id": "CwVqvWTNemX3"
      },
      "source": [
        "def input_prepare(img):\n",
        "    img = np.asarray(img)              \n",
        "    img = cv2.resize(img, (28, 28 ))  \n",
        "    img = cv2.bitwise_not(img)        \n",
        "    img = img / 255                 \n",
        "    img = img.reshape(1, 784)     \n",
        "    return img "
      ],
      "execution_count": 15,
      "outputs": []
    },
    {
      "cell_type": "code",
      "metadata": {
        "id": "xDIqqwoN3yaK"
      },
      "source": [
        "img = cv2.imread('image.png')\n",
        "orig = img.copy()  \n",
        "img = cv2.cvtColor(img, cv2.COLOR_BGR2GRAY)\n",
        "img = input_prepare(img)"
      ],
      "execution_count": 16,
      "outputs": []
    },
    {
      "cell_type": "code",
      "metadata": {
        "colab": {
          "base_uri": "https://localhost:8080/",
          "height": 287
        },
        "id": "UAwt6BcY4sAn",
        "outputId": "5d0ae62f-8bf3-48fb-c4e5-3dcfbf9a405d"
      },
      "source": [
        "import matplotlib.pyplot as plt\n",
        "plt.imshow(orig)"
      ],
      "execution_count": 17,
      "outputs": [
        {
          "output_type": "execute_result",
          "data": {
            "text/plain": [
              "<matplotlib.image.AxesImage at 0x7f916f37b950>"
            ]
          },
          "metadata": {
            "tags": []
          },
          "execution_count": 17
        },
        {
          "output_type": "display_data",
          "data": {
            "image/png": "[encoded data removed]",
            "text/plain": [
              "<Figure size 432x288 with 1 Axes>"
            ]
          },
          "metadata": {
            "tags": [],
            "needs_background": "light"
          }
        }
      ]
    },
    {
      "cell_type": "code",
      "metadata": {
        "id": "hCsNoMV7fL0M"
      },
      "source": [
        "pred = DNN.predict(img)"
      ],
      "execution_count": 18,
      "outputs": []
    },
    {
      "cell_type": "code",
      "metadata": {
        "id": "mOgtm0_OfCE0",
        "colab": {
          "base_uri": "https://localhost:8080/"
        },
        "outputId": "4cab59cc-2ef2-469a-ab75-131a559e910e"
      },
      "source": [
        "np.argmax(pred, axis=1)"
      ],
      "execution_count": 19,
      "outputs": [
        {
          "output_type": "execute_result",
          "data": {
            "text/plain": [
              "array([3])"
            ]
          },
          "metadata": {
            "tags": []
          },
          "execution_count": 19
        }
      ]
    },
    {
      "cell_type": "markdown",
      "metadata": {
        "id": "PnAa9xoY59OQ"
      },
      "source": [
        "Deployment"
      ]
    },
    {
      "cell_type": "code",
      "metadata": {
        "id": "g-4anHr_36c_"
      },
      "source": [
        "!pip install flask-ngrok"
      ],
      "execution_count": null,
      "outputs": []
    },
    {
      "cell_type": "code",
      "metadata": {
        "id": "ClPZzFF56ifF"
      },
      "source": [
        "from tensorflow.keras.models import load_model\n",
        "from flask import Flask, request\n",
        "from flask_ngrok import run_with_ngrok\n",
        "import cv2\n",
        "import uuid\n",
        "import os\n",
        "import numpy as np"
      ],
      "execution_count": 26,
      "outputs": []
    },
    {
      "cell_type": "code",
      "metadata": {
        "id": "Az3xawvu5-ks"
      },
      "source": [
        "app = Flask(__name__)\n",
        "run_with_ngrok(app)   \n",
        "  \n",
        "@app.route(\"/\")\n",
        "def home():\n",
        "  return \"<h1>MNIST API By Muhammad Hanan Asghar</h1>\"\n",
        "\n",
        "@app.route(\"/model\", methods=['POST'])\n",
        "def model():\n",
        "  request_data = request.get_json(force=True)\n",
        "  im_g = request_data['img']\n",
        "  im_g = np.array(im_g)\n",
        "  im_g = cv2.resize(im_g, (28, 28 ))\n",
        "  filename = uuid.uuid4().hex\n",
        "  cv2.imwrite(f\"{filename}.jpg\", im_g)\n",
        "  img = cv2.imread(f\"{filename}.jpg\")\n",
        "  img = cv2.cvtColor(img, cv2.COLOR_BGR2GRAY)\n",
        "  img = cv2.resize(img, (28, 28 ))            \n",
        "  img = cv2.bitwise_not(img)        \n",
        "  img = img / 255.0             \n",
        "  img = img.reshape(1, 784)        \n",
        "  os.remove(f\"{os.path.abspath(os.getcwd())}/{filename}.jpg\")\n",
        "  pred = DNN.predict(img)\n",
        "  return str(np.argmax(pred, axis=1)[0])\n",
        "\n",
        "app.run()"
      ],
      "execution_count": null,
      "outputs": []
    }
  ]
}